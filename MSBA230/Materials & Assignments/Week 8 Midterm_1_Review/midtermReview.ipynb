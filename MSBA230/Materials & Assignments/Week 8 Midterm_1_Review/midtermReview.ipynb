{
    "metadata": {
        "kernelspec": {
            "name": "SQL",
            "display_name": "SQL",
            "language": "sql"
        },
        "language_info": {
            "name": "sql",
            "version": ""
        }
    },
    "nbformat_minor": 2,
    "nbformat": 4,
    "cells": [
        {
            "cell_type": "markdown",
            "source": [
                "\\# Midterm Exam Review\n",
                "\n",
                "No correlated subquery."
            ],
            "metadata": {
                "azdata_cell_guid": "e8097c78-dfe5-45c0-89df-980415528f4a"
            },
            "attachments": {}
        },
        {
            "cell_type": "code",
            "source": [
                "USE MyGuiTarShop;"
            ],
            "metadata": {
                "azdata_cell_guid": "48323b29-078f-40c2-b3d3-0e1a8527c2e4",
                "language": "sql"
            },
            "outputs": [
                {
                    "output_type": "display_data",
                    "data": {
                        "text/html": "Commands completed successfully."
                    },
                    "metadata": {}
                },
                {
                    "output_type": "display_data",
                    "data": {
                        "text/html": "Total execution time: 00:00:00.002"
                    },
                    "metadata": {}
                }
            ],
            "execution_count": 3
        },
        {
            "cell_type": "code",
            "source": [
                ""
            ],
            "metadata": {
                "azdata_cell_guid": "73233cc6-6943-46c9-a383-ffe2d0d3166f",
                "language": "sql"
            },
            "outputs": [],
            "execution_count": null
        },
        {
            "cell_type": "markdown",
            "source": [
                "a. Return the store with the most staffs."
            ],
            "metadata": {
                "azdata_cell_guid": "62d48168-38bc-475e-bf90-499fde8db4f0"
            },
            "attachments": {}
        },
        {
            "cell_type": "code",
            "source": [
                "Select top 1 StoreName, Count(*)\n",
                "from Stores JOIN Staff On Stores.StoreID=Staff.StoreID\n",
                "GROUP BY StoreName\n",
                "order by count(*) DESC;"
            ],
            "metadata": {
                "azdata_cell_guid": "2ebd7b18-1e4e-4054-9850-c000087cbf23",
                "language": "sql"
            },
            "outputs": [],
            "execution_count": null
        },
        {
            "cell_type": "markdown",
            "source": [
                "b. return the <mark>customers</mark> that have bought products with a list price of $2000 in the last month."
            ],
            "metadata": {
                "language": "sql",
                "azdata_cell_guid": "37e8a681-36bc-40f6-b403-7d2fa72587dc"
            },
            "attachments": {}
        },
        {
            "cell_type": "code",
            "source": [
                "SELECT c.*\n",
                "from Customers c \n",
                "join Orders o on o.CustomerID=c.CustomerID\n",
                "join OrderItems oi on o.OrderID=oi.OrderID\n",
                "join Products p on oi.ProductID=p.ProductID\n",
                "Where \n",
                "    ListPrice=2000 \n",
                "    AND \n",
                "    DATEDIFF(Month, OrderDate, GetDate()) <= 1;"
            ],
            "metadata": {
                "language": "sql",
                "azdata_cell_guid": "deb5a9d5-4ccd-4652-8ad6-724d039ff4e5",
                "tags": []
            },
            "outputs": [],
            "execution_count": null
        },
        {
            "cell_type": "markdown",
            "source": [
                "c. Return the number of times that products with model year of 2017 and price of $1000 or more, have been ordered."
            ],
            "metadata": {
                "azdata_cell_guid": "dd3d609f-fd2d-4e6c-b436-52a232c560c5"
            },
            "attachments": {}
        },
        {
            "cell_type": "code",
            "source": [
                "SELECT p.ProductID, ProductName, BrandID, CategoryID, COUNT(*)\n",
                "FROM Products p \n",
                "JOIN OrderItems oi ON p.ProductID=oi.ProductID\n",
                "WHERE \n",
                "    ModelYear=2017 \n",
                "    AND \n",
                "    ListPrice>=1000\n",
                "GROUP BY p.ProductID, ProductName, BrandID, CategoryID;"
            ],
            "metadata": {
                "azdata_cell_guid": "0fb9b2d3-3245-45df-a72f-86ea675eb4b9",
                "language": "sql"
            },
            "outputs": [],
            "execution_count": null
        },
        {
            "cell_type": "markdown",
            "source": [
                "f. Return the customers that their number of orders is above average.\n",
                "\n",
                "Hint: Cannot do the aggr in an agg in the same query. So, CTE and <span style=\"font-family: -apple-system, BlinkMacSystemFont, sans-serif; color: var(--vscode-foreground);\">SELECT INTO</span>  <span style=\"font-family: -apple-system, BlinkMacSystemFont, sans-serif; color: var(--vscode-foreground);\">&nbsp;are one of the ways to do it. Or, creating a temporary table in the sub query</span>"
            ],
            "metadata": {
                "language": "sql",
                "azdata_cell_guid": "037c5e8d-759f-478b-9d40-a83505b2810e"
            },
            "attachments": {}
        },
        {
            "cell_type": "code",
            "source": [
                "WITH NOrders AS (\n",
                "    SELECT CustomerID, Count(*) NumOrders \n",
                "    FROM Orders \n",
                "    GROUP BY CustomerID\n",
                ")\n",
                "\n",
                "SELECT CustomerID, COUNT(*) NumOrders \n",
                "INTO #NOrders \n",
                "FROM Orders \n",
                "GROUP BY CustomerID\n",
                "\n",
                "-- USE THE TEMPT TABLE IN THE SUB QUERY    \n",
                "SELECT CustomerID, COUNT(*) NumOrders\n",
                "FROM Orders \n",
                "GROUP BY CustomerID\n",
                "HAVING COUNT(*)>\n",
                "    (\n",
                "        SELECT AVG(NumOrders)\n",
                "        FROM #NOrders\n",
                "    );"
            ],
            "metadata": {
                "language": "sql",
                "azdata_cell_guid": "e96e6282-fb3d-4a57-990f-24b6f345ea18"
            },
            "outputs": [],
            "execution_count": null
        },
        {
            "cell_type": "markdown",
            "source": [
                "g. Return the name of all the manager.\n",
                "\n",
                "Hint: \n",
                "\n",
                "SELF-JOIN: joining Staff and StaffCopy tables with the common field is Staff.ManagerID = StaffCopy.StaffID\n",
                "\n",
                "SELF-Query:"
            ],
            "metadata": {
                "language": "sql",
                "azdata_cell_guid": "e68d7b86-5581-46aa-8a0d-b922cc25ba91"
            },
            "attachments": {}
        },
        {
            "cell_type": "code",
            "source": [
                "-- self join\n",
                "Select DISTINCT m.FirstName, m.LastName\n",
                "from Staff s \n",
                "join Staff m on s.ManagerID=m.StaffID\n",
                "\n",
                "-- self subquery \n",
                "select \n",
                "\n",
                "where \n",
                "(\n",
                "    select DISTINCT m.FirstName, m.LastName\n",
                "    from Staff m \n",
                "    )"
            ],
            "metadata": {
                "language": "sql",
                "azdata_cell_guid": "2b46e207-e39d-4f51-a3a3-8fb9e0b7e303"
            },
            "outputs": [],
            "execution_count": null
        },
        {
            "cell_type": "code",
            "source": [
                "USE MyGuiTarShop;\n",
                "select \n",
                "    CategoryName, \n",
                "    Count(*), \n",
                "    Max(ListPrice)\n",
                "from Categories c \n",
                "join Products p on p.CategoryID=c.CategoryID\n",
                "group by CategoryName\n",
                "order by count(*) DESC;"
            ],
            "metadata": {
                "language": "sql",
                "azdata_cell_guid": "3b4042bd-84ec-4f48-9d10-f0f1d2e8193d"
            },
            "outputs": [
                {
                    "output_type": "display_data",
                    "data": {
                        "text/html": "(3 rows affected)"
                    },
                    "metadata": {}
                },
                {
                    "output_type": "display_data",
                    "data": {
                        "text/html": "Total execution time: 00:00:00.060"
                    },
                    "metadata": {}
                },
                {
                    "output_type": "execute_result",
                    "metadata": {},
                    "execution_count": 2,
                    "data": {
                        "application/vnd.dataresource+json": {
                            "schema": {
                                "fields": [
                                    {
                                        "name": "CategoryName"
                                    },
                                    {
                                        "name": "(No column name)"
                                    },
                                    {
                                        "name": "(No column name)"
                                    }
                                ]
                            },
                            "data": [
                                {
                                    "CategoryName": "Guitars",
                                    "(No column name)": "2517.00"
                                },
                                {
                                    "CategoryName": "Basses",
                                    "(No column name)": "799.99"
                                },
                                {
                                    "CategoryName": "Drums",
                                    "(No column name)": "799.99"
                                }
                            ]
                        },
                        "text/html": [
                            "<table>",
                            "<tr><th>CategoryName</th><th>(No column name)</th><th>(No column name)</th></tr>",
                            "<tr><td>Guitars</td><td>6</td><td>2517.00</td></tr>",
                            "<tr><td>Basses</td><td>2</td><td>799.99</td></tr>",
                            "<tr><td>Drums</td><td>2</td><td>799.99</td></tr>",
                            "</table>"
                        ]
                    }
                }
            ],
            "execution_count": 2
        },
        {
            "cell_type": "markdown",
            "source": [
                "<span style=\"font-size: 12pt; font-family: Cambria, serif;\">d)<span style=\"font-variant-numeric: normal; font-variant-east-asian: normal; font-variant-alternates: normal; font-kerning: auto; font-optical-sizing: auto; font-feature-settings: normal; font-variation-settings: normal; font-stretch: normal; font-size: 7pt; line-height: normal; font-family: &quot;Times New Roman&quot;;\">&nbsp;&nbsp;&nbsp; </span></span>    <span style=\"font-size: 12pt; font-family: Cambria, serif;\">Return the customers with the count of their orders and the total amount for those orders. Order by the customer with the highest orders.<o:p></o:p></span>"
            ],
            "metadata": {
                "language": "sql",
                "azdata_cell_guid": "25cd02dc-0c1e-4c51-b78f-3a82df0f9fa4"
            },
            "attachments": {}
        },
        {
            "cell_type": "code",
            "source": [
                "use MyGuitarShop;\n",
                "select \n",
                "    c.FirstName+' '+ c.LastName FullName,\n",
                "    Count(Orders.CustomerID)\n",
                "from Customers c \n",
                "join Orders on c.CustomerID=Orders.CustomerID\n",
                "group by c.FirstName+' '+ c.LastName\n",
                "order by count(*) desc"
            ],
            "metadata": {
                "azdata_cell_guid": "ad61b70e-1237-4918-973b-5bd578a5d892",
                "language": "sql",
                "tags": []
            },
            "outputs": [
                {
                    "output_type": "display_data",
                    "data": {
                        "text/html": "(35 rows affected)"
                    },
                    "metadata": {}
                },
                {
                    "output_type": "display_data",
                    "data": {
                        "text/html": "Total execution time: 00:00:00.009"
                    },
                    "metadata": {}
                },
                {
                    "output_type": "execute_result",
                    "metadata": {},
                    "execution_count": 7,
                    "data": {
                        "application/vnd.dataresource+json": {
                            "schema": {
                                "fields": [
                                    {
                                        "name": "FullName"
                                    },
                                    {
                                        "name": "(No column name)"
                                    }
                                ]
                            },
                            "data": [
                                {
                                    "FullName": "David Goldstein",
                                    "(No column name)": "3"
                                },
                                {
                                    "FullName": "Allan Sherwood",
                                    "(No column name)": "2"
                                },
                                {
                                    "FullName": "Bette Nicka",
                                    "(No column name)": "2"
                                },
                                {
                                    "FullName": "Kris Marrier",
                                    "(No column name)": "2"
                                },
                                {
                                    "FullName": "Heather Esway",
                                    "(No column name)": "2"
                                },
                                {
                                    "FullName": "James Butt",
                                    "(No column name)": "1"
                                },
                                {
                                    "FullName": "Josephine Darakjy",
                                    "(No column name)": "1"
                                },
                                {
                                    "FullName": "Kiley Caldarera",
                                    "(No column name)": "1"
                                },
                                {
                                    "FullName": "Abel Maclead",
                                    "(No column name)": "1"
                                },
                                {
                                    "FullName": "Alisha Slusarski",
                                    "(No column name)": "1"
                                },
                                {
                                    "FullName": "Lenna Paprocki",
                                    "(No column name)": "1"
                                },
                                {
                                    "FullName": "Leota Dilliard",
                                    "(No column name)": "1"
                                },
                                {
                                    "FullName": "Maryann Royster",
                                    "(No column name)": "1"
                                },
                                {
                                    "FullName": "Mattie Poquette",
                                    "(No column name)": "1"
                                },
                                {
                                    "FullName": "Meaghan Garufi",
                                    "(No column name)": "1"
                                },
                                {
                                    "FullName": "Minna Amigon",
                                    "(No column name)": "1"
                                },
                                {
                                    "FullName": "Mitsue Tollner",
                                    "(No column name)": "1"
                                },
                                {
                                    "FullName": "Sage Wieser",
                                    "(No column name)": "1"
                                },
                                {
                                    "FullName": "Simona Morasca",
                                    "(No column name)": "1"
                                },
                                {
                                    "FullName": "Veronika Inouye",
                                    "(No column name)": "1"
                                },
                                {
                                    "FullName": "Willard Kolmetz",
                                    "(No column name)": "1"
                                },
                                {
                                    "FullName": "Yuki Whobrey",
                                    "(No column name)": "1"
                                },
                                {
                                    "FullName": "Cammy Albares",
                                    "(No column name)": "1"
                                },
                                {
                                    "FullName": "Chanel Caudy",
                                    "(No column name)": "1"
                                },
                                {
                                    "FullName": "Christine Brown",
                                    "(No column name)": "1"
                                },
                                {
                                    "FullName": "Allene Iturbide",
                                    "(No column name)": "1"
                                },
                                {
                                    "FullName": "Art Venere",
                                    "(No column name)": "1"
                                },
                                {
                                    "FullName": "Barry Zimmer",
                                    "(No column name)": "1"
                                },
                                {
                                    "FullName": "Donette Foller",
                                    "(No column name)": "1"
                                },
                                {
                                    "FullName": "Erin Valentino",
                                    "(No column name)": "1"
                                },
                                {
                                    "FullName": "Fletcher Flosi",
                                    "(No column name)": "1"
                                },
                                {
                                    "FullName": "Frank Lee Wilson",
                                    "(No column name)": "1"
                                },
                                {
                                    "FullName": "Gary Hernandez",
                                    "(No column name)": "1"
                                },
                                {
                                    "FullName": "Gladys Rim",
                                    "(No column name)": "1"
                                },
                                {
                                    "FullName": "Graciela Ruta",
                                    "(No column name)": "1"
                                }
                            ]
                        },
                        "text/html": [
                            "<table>",
                            "<tr><th>FullName</th><th>(No column name)</th></tr>",
                            "<tr><td>David Goldstein</td><td>3</td></tr>",
                            "<tr><td>Allan Sherwood</td><td>2</td></tr>",
                            "<tr><td>Bette Nicka</td><td>2</td></tr>",
                            "<tr><td>Kris Marrier</td><td>2</td></tr>",
                            "<tr><td>Heather Esway</td><td>2</td></tr>",
                            "<tr><td>James Butt</td><td>1</td></tr>",
                            "<tr><td>Josephine Darakjy</td><td>1</td></tr>",
                            "<tr><td>Kiley Caldarera</td><td>1</td></tr>",
                            "<tr><td>Abel Maclead</td><td>1</td></tr>",
                            "<tr><td>Alisha Slusarski</td><td>1</td></tr>",
                            "<tr><td>Lenna Paprocki</td><td>1</td></tr>",
                            "<tr><td>Leota Dilliard</td><td>1</td></tr>",
                            "<tr><td>Maryann Royster</td><td>1</td></tr>",
                            "<tr><td>Mattie Poquette</td><td>1</td></tr>",
                            "<tr><td>Meaghan Garufi</td><td>1</td></tr>",
                            "<tr><td>Minna Amigon</td><td>1</td></tr>",
                            "<tr><td>Mitsue Tollner</td><td>1</td></tr>",
                            "<tr><td>Sage Wieser</td><td>1</td></tr>",
                            "<tr><td>Simona Morasca</td><td>1</td></tr>",
                            "<tr><td>Veronika Inouye</td><td>1</td></tr>",
                            "<tr><td>Willard Kolmetz</td><td>1</td></tr>",
                            "<tr><td>Yuki Whobrey</td><td>1</td></tr>",
                            "<tr><td>Cammy Albares</td><td>1</td></tr>",
                            "<tr><td>Chanel Caudy</td><td>1</td></tr>",
                            "<tr><td>Christine Brown</td><td>1</td></tr>",
                            "<tr><td>Allene Iturbide</td><td>1</td></tr>",
                            "<tr><td>Art Venere</td><td>1</td></tr>",
                            "<tr><td>Barry Zimmer</td><td>1</td></tr>",
                            "<tr><td>Donette Foller</td><td>1</td></tr>",
                            "<tr><td>Erin Valentino</td><td>1</td></tr>",
                            "<tr><td>Fletcher Flosi</td><td>1</td></tr>",
                            "<tr><td>Frank Lee Wilson</td><td>1</td></tr>",
                            "<tr><td>Gary Hernandez</td><td>1</td></tr>",
                            "<tr><td>Gladys Rim</td><td>1</td></tr>",
                            "<tr><td>Graciela Ruta</td><td>1</td></tr>",
                            "</table>"
                        ]
                    }
                }
            ],
            "execution_count": 7
        },
        {
            "cell_type": "markdown",
            "source": [
                "Average number of days for each category."
            ],
            "metadata": {
                "azdata_cell_guid": "e442e2e5-3d4e-45b0-a342-1beb2a8884e6"
            },
            "attachments": {}
        },
        {
            "cell_type": "code",
            "source": [
                "Use MyGuitarShop;\n",
                "\n",
                "select CategoryName, AVG(DATEDIFF(DAY, OrderDate, ShipDate)) [Category Frequency per Day]\n",
                "from Orders o \n",
                "join OrderItems oi on oi.OrderID=o.OrderID\n",
                "join Products p on p.ProductID=oi.ProductID\n",
                "join Categories c on p.CategoryID=c.CategoryID\n",
                "group by CategoryName;"
            ],
            "metadata": {
                "azdata_cell_guid": "983212eb-e149-4c91-9da9-17971a348a2b",
                "language": "sql"
            },
            "outputs": [
                {
                    "output_type": "display_data",
                    "data": {
                        "text/html": "Warning: Null value is eliminated by an aggregate or other SET operation."
                    },
                    "metadata": {}
                },
                {
                    "output_type": "display_data",
                    "data": {
                        "text/html": "(3 rows affected)"
                    },
                    "metadata": {}
                },
                {
                    "output_type": "display_data",
                    "data": {
                        "text/html": "Total execution time: 00:00:00.010"
                    },
                    "metadata": {}
                },
                {
                    "output_type": "execute_result",
                    "metadata": {},
                    "execution_count": 11,
                    "data": {
                        "application/vnd.dataresource+json": {
                            "schema": {
                                "fields": [
                                    {
                                        "name": "CategoryName"
                                    },
                                    {
                                        "name": "Category Frequency per Day"
                                    }
                                ]
                            },
                            "data": [
                                {
                                    "CategoryName": "Basses",
                                    "Category Frequency per Day": "2"
                                },
                                {
                                    "CategoryName": "Drums",
                                    "Category Frequency per Day": "3"
                                },
                                {
                                    "CategoryName": "Guitars",
                                    "Category Frequency per Day": "2"
                                }
                            ]
                        },
                        "text/html": [
                            "<table>",
                            "<tr><th>CategoryName</th><th>Category Frequency per Day</th></tr>",
                            "<tr><td>Basses</td><td>2</td></tr>",
                            "<tr><td>Drums</td><td>3</td></tr>",
                            "<tr><td>Guitars</td><td>2</td></tr>",
                            "</table>"
                        ]
                    }
                }
            ],
            "execution_count": 11
        },
        {
            "cell_type": "markdown",
            "source": [
                "current month, year, date with GETDATE()"
            ],
            "metadata": {
                "language": "sql",
                "azdata_cell_guid": "5b0e586b-b238-40ce-8b7e-f1baed87bc80"
            },
            "attachments": {}
        },
        {
            "cell_type": "code",
            "source": [
                "use MyGuitarShop;\n",
                "select month(getdate()), year(GETDATE()) , day(getdate()); "
            ],
            "metadata": {
                "language": "sql",
                "azdata_cell_guid": "e8fddca8-eb00-4638-ad4b-ae3476a6504a",
                "tags": []
            },
            "outputs": [
                {
                    "output_type": "display_data",
                    "data": {
                        "text/html": "(1 row affected)"
                    },
                    "metadata": {}
                },
                {
                    "output_type": "display_data",
                    "data": {
                        "text/html": "Total execution time: 00:00:00.004"
                    },
                    "metadata": {}
                },
                {
                    "output_type": "execute_result",
                    "metadata": {},
                    "execution_count": 15,
                    "data": {
                        "application/vnd.dataresource+json": {
                            "schema": {
                                "fields": [
                                    {
                                        "name": "(No column name)"
                                    },
                                    {
                                        "name": "(No column name)"
                                    },
                                    {
                                        "name": "(No column name)"
                                    }
                                ]
                            },
                            "data": [
                                {
                                    "(No column name)": "16"
                                }
                            ]
                        },
                        "text/html": [
                            "<table>",
                            "<tr><th>(No column name)</th><th>(No column name)</th><th>(No column name)</th></tr>",
                            "<tr><td>10</td><td>2024</td><td>16</td></tr>",
                            "</table>"
                        ]
                    }
                }
            ],
            "execution_count": 15
        },
        {
            "cell_type": "code",
            "source": [
                ""
            ],
            "metadata": {
                "language": "sql",
                "azdata_cell_guid": "37a645d0-a981-41dd-b435-75ec9f151f7b"
            },
            "outputs": [],
            "execution_count": null
        }
    ]
}